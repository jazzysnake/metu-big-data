{
 "cells": [
  {
   "cell_type": "markdown",
   "id": "eab8835b-dd31-4673-8595-d8a361c63e69",
   "metadata": {},
   "source": [
    "# METU Technology and Regulation II - Big Data\n",
    "This material was made for the Technology and regulation II. course of METU. Contact debreczenim@mnb.hu for permission to use."
   ]
  },
  {
   "cell_type": "markdown",
   "id": "c1756cf8-c1ab-4b22-bc48-df11102aae6f",
   "metadata": {},
   "source": [
    "## What is \"Big Data\"?\n",
    "\n",
    "A buzzword.\n",
    "\n",
    "Lots of definitions online, look them up if you are interested.\n",
    "However, our current digital economy runs on data (lots of it).\n",
    "\n",
    "Consider social media *in 2017*:\n",
    "\n",
    "- Snapchat users share 527,760 photos\n",
    "- Users watch 4,146,600 YouTube videos\n",
    "- 456,000 tweets are sent on Twitter\n",
    "- Instagram users post 46,740 photos\n",
    "\n",
    "### on average, every minute of every day [[1](https://www.forbes.com/sites/bernardmarr/2018/05/21/how-much-data-do-we-create-every-day-the-mind-blowing-stats-everyone-should-read)]\n",
    "\n",
    "**The amount of data generated and the speed of it's creation is ever increasing.**"
   ]
  },
  {
   "cell_type": "markdown",
   "id": "41ce18b7-90b1-4555-991f-4be9440c7ed7",
   "metadata": {},
   "source": [
    "## Why bother processing it?\n",
    "\n",
    "- Profitable for the companies\n",
    "- Targeted ads make content free for users\n",
    "- Granular metrics can better support the decision-making processes\n",
    "\n",
    "### Facebook's annual ad revenue in million dollars [[2](https://www.statista.com/statistics/271258/facebooks-advertising-revenue-worldwide/)]\n",
    "<img src=\"pics/facebook-ad-revenue.png\" alt=\"facebook annual ad revenue in million dollars\" />"
   ]
  },
  {
   "cell_type": "markdown",
   "id": "e4f226a1-a6d2-49f7-b8da-ee600f9de7ec",
   "metadata": {},
   "source": [
    "## How to process it?\n",
    "\n",
    "As with everything in software: **it depends...**\n",
    "- on the amount,\n",
    "- the structure/format,\n",
    "- the frequency,\n",
    "- the sensitivity\n",
    "- etc. \n",
    "\n",
    "of the data. Designing the pipelines and architecture best suited for each use-case is a complex task."
   ]
  },
  {
   "cell_type": "markdown",
   "id": "4f1d1211-ff1d-4696-bae4-336fd1c644ad",
   "metadata": {},
   "source": [
    "## Supporting hardware\n",
    "\n",
    "- Vertical scaling of compute can not keep up with the rate of data creation\n",
    "- Modern CPU-s are multi-core and can run multiple processes in parallel\n",
    "- Modern large-scale data pipelines consist of multiple servers\n",
    "- These require specialised software to utilize the performance gains\n",
    "\n",
    "### CPU benchmark scores (Passmark) [[3](https://www.cpubenchmark.net/year-on-year.html)]\n",
    "<img src=\"pics/cpu-performance.png\" alt=\"cpu average performance throughout the years\" />\n"
   ]
  },
  {
   "cell_type": "markdown",
   "id": "53be2bb1-28ba-4a01-84a5-c42a24bc9edd",
   "metadata": {},
   "source": [
    "### Cloud infrastructure\n",
    "\n",
    "- Cloud is also used as a buzzword\n",
    "- Oversimplified: Cloud = lots of computers available for renting \n",
    "- In realitiy: specialized servers + software + service etc.\n",
    "- Virtual machines communicate with eachother to process data\n",
    "\n",
    "Amazon's and Netflix's [microservices](https://en.wikipedia.org/wiki/Microservices) architecture\n",
    "<img src=\"pics/microservices.webp\" alt=\"amazon and netflix microservice architecture graph\" />"
   ]
  },
  {
   "cell_type": "code",
   "execution_count": null,
   "id": "8bf181e9-e746-426a-bff7-f496b90993ae",
   "metadata": {},
   "outputs": [],
   "source": [
    "import datashader as ds\n",
    "import datashader.transfer_functions as tf\n",
    "import dask.dataframe as dd\n",
    "import pandas as pd\n",
    "\n",
    "from colorcet import fire"
   ]
  },
  {
   "cell_type": "markdown",
   "id": "3562aebc-fb05-4e8c-a8fc-5de857f7a651",
   "metadata": {},
   "source": [
    "## Pandas dataframes\n",
    "Tabular data, similar to excel sheets. Makes common calculations easy, by providing a user frendly api.\n",
    "\n",
    "**Works well on \"small\" data.**"
   ]
  },
  {
   "cell_type": "code",
   "execution_count": null,
   "id": "98265123-e535-47ef-bfdc-104a0abc5c9c",
   "metadata": {},
   "outputs": [],
   "source": [
    "passing_dataset = {\n",
    "  'cars': [\"BMW\", \"Volvo\", \"Ford\"],\n",
    "  'passings': [3, 7, 2]\n",
    "}\n",
    "\n",
    "passing_df = pd.DataFrame(passing_dataset)\n",
    "passing_df"
   ]
  },
  {
   "cell_type": "code",
   "execution_count": null,
   "id": "f0b8663e-4e5a-4a2b-a201-6d35c713aba7",
   "metadata": {},
   "outputs": [],
   "source": [
    "price_dataset = {\n",
    "    'cars': ['Volvo', 'Ford', 'BMW', 'Hyundai'],\n",
    "    'price':[1000, 2000, 3000, 4000]\n",
    "}\n",
    "price_df = pd.DataFrame(price_dataset)\n",
    "price_df"
   ]
  },
  {
   "cell_type": "code",
   "execution_count": null,
   "id": "e8169463-8b97-44af-9503-5b0c1826c512",
   "metadata": {},
   "outputs": [],
   "source": [
    "merged_df = pd.merge(price_df, passing_df, on='cars', how='outer')\n",
    "merged_df"
   ]
  },
  {
   "cell_type": "code",
   "execution_count": null,
   "id": "27ed518b-33ea-45a5-a37b-8d9130bab05b",
   "metadata": {},
   "outputs": [],
   "source": [
    "merged_df['price_to_passing_ratio'] = merged_df['price'] / merged_df['passings']\n",
    "merged_df"
   ]
  },
  {
   "cell_type": "code",
   "execution_count": null,
   "id": "44147365-ad59-48e8-b349-2bc9924b139d",
   "metadata": {},
   "outputs": [],
   "source": [
    "merged_df.loc[merged_df['price_to_passing_ratio'] == merged_df['price_to_passing_ratio'].min()]"
   ]
  },
  {
   "cell_type": "markdown",
   "id": "8afa5005-c85e-4a58-a677-0b932dff2cf2",
   "metadata": {},
   "source": [
    "## Dask dataframes\n",
    "\n",
    "Provides the same/similar API as pandas for handling tabular data.\n",
    "\n",
    "Dask dataframes use pandas dataframes under the hood and operations on them are mapped to operations on the underlying pandas dataframes.\n",
    "However, **the operations on the pandas dataframes are performed lazily and in parallel**, as dask is optimized for handling *large* amounts of data."
   ]
  },
  {
   "cell_type": "code",
   "execution_count": null,
   "id": "5fb4a7c0-e455-4ca2-a096-451acf65de3f",
   "metadata": {},
   "outputs": [],
   "source": [
    "df = pd.read_parquet('data/osm-1billion.parq')\n",
    "df"
   ]
  },
  {
   "cell_type": "code",
   "execution_count": null,
   "id": "fdde9b72-ae55-4e45-96dd-26e1f32165e0",
   "metadata": {},
   "outputs": [],
   "source": [
    "df = dd.read_parquet('data/osm-1billion.parq')\n",
    "df"
   ]
  },
  {
   "cell_type": "code",
   "execution_count": null,
   "id": "c19f476a-564f-4315-97e6-20f5c04c92c4",
   "metadata": {},
   "outputs": [],
   "source": [
    "df = df.mean()\n",
    "df"
   ]
  },
  {
   "cell_type": "code",
   "execution_count": null,
   "id": "51e06d57-e2f6-481c-a7f8-f344b89f881f",
   "metadata": {},
   "outputs": [],
   "source": [
    "df.visualize()"
   ]
  },
  {
   "cell_type": "code",
   "execution_count": null,
   "id": "9fce31a9-e64b-4c09-aa2c-e2dcd96ffd5d",
   "metadata": {},
   "outputs": [],
   "source": [
    "df.compute()"
   ]
  },
  {
   "cell_type": "code",
   "execution_count": null,
   "id": "80a50c36-19ba-4e0a-9ebc-6a9083cdcc6f",
   "metadata": {},
   "outputs": [],
   "source": [
    "bound = 20026376.39\n",
    "bounds = dict(x_range = (-bound, bound), y_range = (int(-bound*0.4), int(bound*0.6)))\n",
    "plot_width = 900\n",
    "plot_height = int(plot_width*0.5)"
   ]
  },
  {
   "cell_type": "code",
   "execution_count": null,
   "id": "fbb4ca09-7565-4dd5-91f4-c1f441ad1868",
   "metadata": {},
   "outputs": [],
   "source": [
    "df = dd.read_parquet('data/osm-1billion.parq')\n",
    "df"
   ]
  },
  {
   "cell_type": "code",
   "execution_count": null,
   "id": "11a65b9b-73f7-448f-9057-16fa2c11feb6",
   "metadata": {},
   "outputs": [],
   "source": [
    "%%time\n",
    "cvs = ds.Canvas(plot_width=plot_width, plot_height=plot_height, **bounds)\n",
    "agg = cvs.points(df, 'x', 'y', ds.count())"
   ]
  },
  {
   "cell_type": "code",
   "execution_count": null,
   "id": "a38b4050-4d95-464c-9b3c-5d78c40b1639",
   "metadata": {},
   "outputs": [],
   "source": [
    "tf.shade(agg, cmap=[\"lightblue\", \"darkblue\"], how='log')"
   ]
  },
  {
   "cell_type": "code",
   "execution_count": null,
   "id": "d1cd9e28-48f9-460d-a5cb-d4e7cbfe5423",
   "metadata": {},
   "outputs": [],
   "source": [
    "tf.set_background(tf.shade(agg, cmap=fire), \"black\")"
   ]
  }
 ],
 "metadata": {
  "kernelspec": {
   "display_name": "Python 3 (ipykernel)",
   "language": "python",
   "name": "python3"
  },
  "language_info": {
   "codemirror_mode": {
    "name": "ipython",
    "version": 3
   },
   "file_extension": ".py",
   "mimetype": "text/x-python",
   "name": "python",
   "nbconvert_exporter": "python",
   "pygments_lexer": "ipython3",
   "version": "3.9.15"
  }
 },
 "nbformat": 4,
 "nbformat_minor": 5
}
